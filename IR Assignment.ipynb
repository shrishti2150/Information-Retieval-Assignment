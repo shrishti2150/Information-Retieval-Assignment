{
 "cells": [
  {
   "cell_type": "code",
   "execution_count": 1,
   "id": "ec6dd682",
   "metadata": {},
   "outputs": [],
   "source": [
    "import pyodbc"
   ]
  },
  {
   "cell_type": "code",
   "execution_count": 2,
   "id": "1a0a8b2b",
   "metadata": {},
   "outputs": [],
   "source": [
    "conn = pyodbc.connect('Driver={SQL Server};'\n",
    "                      'Server=SHRISHTIS_PB\\SQLEXPRESS;'\n",
    "                      'Database=Chat;'\n",
    "                      'Trusted_Connection=yes;')\n",
    "cursor = conn.cursor()\n"
   ]
  },
  {
   "cell_type": "code",
   "execution_count": 4,
   "id": "e26ffcc1",
   "metadata": {},
   "outputs": [],
   "source": [
    "def Index():\n",
    "    cursor.execute(\"exec IndexKeyFile\")\n",
    "    row = cursor.fetchone()\n",
    "    print(row[0])\n",
    "    \n",
    "def ListFiles():\n",
    "    print(\"Enter 1 to display all files with keyword Crime Scene Fingerprint Segmentation\")\n",
    "    print (\"Enter 2 to display all files with keyword Fingerpring Segmentation Accuracy\")\n",
    "    print (\"Enter 3 to display all files with keyword Fingerprint Segmentation\")\n",
    "    print (\"Enter 4 to display all files with keyword Latent Fingerprint\")\n",
    "    print (\"Enter 5 to display all files with keyword Segmentation Algorithms\")\n",
    "    a=input()\n",
    "    cursor.execute(\"exec DisplayKeywordData @k=\"+a)\n",
    "    while 1:\n",
    "        row = cursor.fetchone()\n",
    "        if not row:\n",
    "            break\n",
    "        print(row)\n",
    "\n",
    "def DisplayContent():\n",
    "    print(\"Available Files:\")\n",
    "    cursor.execute(\"select Filename from Data\")\n",
    "    while 1:\n",
    "        row = cursor.fetchone()\n",
    "        if not row:\n",
    "            break\n",
    "        print(row)\n",
    "    print(\"Enter File Name to view contents\")\n",
    "    b=input()\n",
    "    cursor.execute(\"select Path from Data where Filename='\"+b+\"'\")\n",
    "    row = cursor.fetchone()\n",
    "    print(row[0])\n",
    "    \n",
    "    with open(row[0], 'r',encoding='ISO-8859-1') as f:\n",
    "        print(f.read())\n"
   ]
  },
  {
   "cell_type": "code",
   "execution_count": null,
   "id": "0aa7622d",
   "metadata": {},
   "outputs": [
    {
     "name": "stdout",
     "output_type": "stream",
     "text": [
      "Enter 1 to Create Index on Keyword and Filename\n",
      "Enter 2 to List all files for a given Keyword\n",
      "Enter 3 Display a particular file content for a given keyword\n",
      "3\n",
      "Available Files:\n",
      "('crime scene fingerprint (1)', )\n",
      "('crime scene fingerprint (2)', )\n",
      "('crime scene fingerprint (3)', )\n",
      "('crime scene fingerprint (4)', )\n",
      "('crime scene fingerprint (5)', )\n",
      "('crime scene fingerprint (6)', )\n",
      "('fingerprint segmentation (1)', )\n",
      "('fingerprint segmentation (2)', )\n",
      "('fingerprint segmentation (3)', )\n",
      "('fingerprint segmentation (4)', )\n",
      "('fingerprint segmentation (5)', )\n",
      "('fingerprint segmentation (6)', )\n",
      "('fingerprint segmentation accuracy (1)', )\n",
      "('fingerprint segmentation accuracy (2)', )\n",
      "('fingerprint segmentation accuracy (3)', )\n",
      "('fingerprint segmentation accuracy (4)', )\n",
      "('fingerprint segmentation accuracy (5)', )\n",
      "('fingerprint segmentation accuracy (6)', )\n",
      "('latentfingerprint (1)', )\n",
      "('latentfingerprint (2)', )\n",
      "('latentfingerprint (3)', )\n",
      "('latentfingerprint (4)', )\n",
      "('latentfingerprint (5)', )\n",
      "('latentfingerprint (6)', )\n",
      "('Segmentation Alogorithms (1)', )\n",
      "('Segmentation Alogorithms (2)', )\n",
      "('Segmentation Alogorithms (3)', )\n",
      "('Segmentation Alogorithms (4)', )\n",
      "('Segmentation Alogorithms (5)', )\n",
      "('Segmentation Alogorithms (6)', )\n",
      "Enter File Name to view contents\n"
     ]
    }
   ],
   "source": [
    "print (\"Enter 1 to Create Index on Keyword and Filename\")\n",
    "print (\"Enter 2 to List all files for a given Keyword\")\n",
    "print (\"Enter 3 Display a particular file content for a given keyword\")\n",
    "i=input()\n",
    "#print(i)\n",
    "\n",
    "if(int(i)==1):\n",
    "    Index()\n",
    "elif(int(i)==2):\n",
    "    ListFiles()\n",
    "elif(int(i)==3):\n",
    "    DisplayContent()\n",
    "else:\n",
    "    print(\"Invalid Input\")\n",
    "    \n",
    "# while 1:\n",
    "#     row = cursor.fetchone()\n",
    "#     if not row:\n",
    "#         break\n",
    "#     print(row)"
   ]
  },
  {
   "cell_type": "code",
   "execution_count": 22,
   "id": "de36e2bc",
   "metadata": {},
   "outputs": [],
   "source": [
    "cursor.close()\n",
    "conn.close()"
   ]
  },
  {
   "cell_type": "code",
   "execution_count": null,
   "id": "2fabff77",
   "metadata": {},
   "outputs": [],
   "source": [
    "# 1. 1(htm),E:\\Python\\IR code\\Data\\Data\\crime scene fingerprint (1).htm\n",
    "# 2. 2(pdf), 3(htm), 4 pdf\n",
    "# 3. 1(htm),2(pdf), 4(pdf),6(pdf)\n",
    "# 4. 1(htm), 2(htm), 3(htm), 4(htm), 5(htm)\n",
    "# 5. 1(htm), 6(pdf)"
   ]
  }
 ],
 "metadata": {
  "kernelspec": {
   "display_name": "Python 3",
   "language": "python",
   "name": "python3"
  },
  "language_info": {
   "codemirror_mode": {
    "name": "ipython",
    "version": 3
   },
   "file_extension": ".py",
   "mimetype": "text/x-python",
   "name": "python",
   "nbconvert_exporter": "python",
   "pygments_lexer": "ipython3",
   "version": "3.8.10"
  }
 },
 "nbformat": 4,
 "nbformat_minor": 5
}
